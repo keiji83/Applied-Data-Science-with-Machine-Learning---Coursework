{
 "cells": [
  {
   "cell_type": "markdown",
   "metadata": {},
   "source": [
    "## Question 1"
   ]
  },
  {
   "cell_type": "markdown",
   "metadata": {},
   "source": [
    "**Write a function to create a calculator that performs *addition and subtraction* on two numbers, and prints the result of both calculations. <br>\n",
    "Use n1 = 2, n2 = 3 to call the function. Eg. for subtract: 2-3 prints result of -1**   <br>\n",
    "Marks: 2"
   ]
  },
  {
   "cell_type": "code",
   "execution_count": 75,
   "metadata": {},
   "outputs": [
    {
     "name": "stdout",
     "output_type": "stream",
     "text": [
      "n1 + n2 = 5\n",
      "n1 - n2 = -1\n"
     ]
    }
   ],
   "source": [
    "def fun():\n",
    "    add = n1+n2\n",
    "    subtract = n1-n2\n",
    "    print(\"n1 + n2 =\", add)\n",
    "    print(\"n1 - n2 =\", subtract)\n",
    "\n",
    "n1=2\n",
    "n2=3\n",
    "\n",
    "fun()\n"
   ]
  },
  {
   "cell_type": "markdown",
   "metadata": {},
   "source": [
    "## Question 2"
   ]
  },
  {
   "cell_type": "markdown",
   "metadata": {},
   "source": [
    "**Write a function to play a game as follows:**\n",
    "\n",
    "Roll two dices. Each die has six faces representing values 1 to 6, respectively. Check the sum of the two dice. If the sum is even, you lose; if the sum odd, you win. Print out the values of the dice you rolled, and the result.\n",
    "\n",
    "Use import random and then random.randint(1,6) to roll a random number between 1 and 6.\n",
    "<br><br>\n",
    "Example output: <br>\n",
    "**You rolled 5,6 <br>\n",
    "**You win**\n",
    "\n",
    "<br> Marks: 3"
   ]
  },
  {
   "cell_type": "code",
   "execution_count": 73,
   "metadata": {},
   "outputs": [
    {
     "name": "stdout",
     "output_type": "stream",
     "text": [
      "Roll two dice, you win if the sum of the two dice is odd, you lose if the sum is even.\n",
      "You rolled: 1 & 5 . The sum is 6\n",
      "The sum of the two dice is an even number, you lose\n"
     ]
    }
   ],
   "source": [
    "import random\n",
    "    \n",
    "print(\"Roll two dice, you win if the sum of the two dice is odd, you lose if the sum is even.\")\n",
    "\n",
    "def roll():\n",
    "    \n",
    "    a = random.randint(1, 6)\n",
    "    b = random.randint(1, 6)\n",
    "    sum = a+b\n",
    "    print(\"You rolled:\", a,\"&\", b,\". The sum is\", sum)\n",
    "    \n",
    "    if (sum)%2 == 0:\n",
    "        print(\"The sum of the two dice is an even number, you lose\")\n",
    "        \n",
    "    else:\n",
    "        print(\"The sum of the two dice is an odd number, you win!\")\n",
    "    \n",
    "roll()"
   ]
  },
  {
   "cell_type": "markdown",
   "metadata": {},
   "source": [
    "## Question 3"
   ]
  },
  {
   "cell_type": "markdown",
   "metadata": {},
   "source": [
    "**Complete the python program to print all *factors of a number n*. Factor means numbers that n can divide by without any remainders <br>\n",
    "Eg. factors of 10: 10,5,2,1** <br>\n",
    "Hint: Loop looks through all numbers in n to test for divisibility by n <br>\n",
    "Marks: 2"
   ]
  },
  {
   "cell_type": "code",
   "execution_count": 6,
   "metadata": {
    "scrolled": true
   },
   "outputs": [
    {
     "name": "stdout",
     "output_type": "stream",
     "text": [
      "1\n",
      "2\n",
      "5\n",
      "10\n"
     ]
    }
   ],
   "source": [
    "def print_factors(num):\n",
    "    \n",
    "   for i in range(1, num+1):\n",
    "       if num % i == 0:\n",
    "           print(i)\n",
    "\n",
    "print_factors(10)"
   ]
  },
  {
   "cell_type": "markdown",
   "metadata": {},
   "source": [
    "## Question 4"
   ]
  },
  {
   "cell_type": "markdown",
   "metadata": {},
   "source": [
    "**Write a function that filters out and prints numbers smaller than 5 in any list by using *filter function* with lambda.**\n",
    "\n",
    "**Hints: <br>\n",
    "Use *filter()* to filter some elements in a list.<br>\n",
    "Use *lambda* to define anonymous functions.**\n",
    "<br> Marks: 3"
   ]
  },
  {
   "cell_type": "code",
   "execution_count": 39,
   "metadata": {},
   "outputs": [
    {
     "name": "stdout",
     "output_type": "stream",
     "text": [
      "Numbers in list: [1, 3, 6, 8]\n",
      "Numbers smaller than 5: [1, 3]\n"
     ]
    }
   ],
   "source": [
    "mylist = [1,3,6,8]\n",
    "\n",
    "print(\"Numbers in list:\",mylist)\n",
    "\n",
    "print(\"Numbers smaller than 5:\", list(filter(lambda x: x<5, mylist)))\n"
   ]
  },
  {
   "cell_type": "markdown",
   "metadata": {},
   "source": [
    "## Question 5"
   ]
  },
  {
   "cell_type": "markdown",
   "metadata": {},
   "source": [
    "**Modify the above function to append a number into the new list after filtering.**\n",
    "<br><br> eg.   def filterlist(mylist, n)... fill in your code... \n",
    "<br><br> a = [1,3,6,8] \n",
    "<br> filterlist(a,n=40)\n",
    "<br><br> Output: [1,3,40]\n",
    "<br><br> Marks: 2"
   ]
  },
  {
   "cell_type": "code",
   "execution_count": 41,
   "metadata": {},
   "outputs": [
    {
     "name": "stdout",
     "output_type": "stream",
     "text": [
      "[1, 3, 40]\n"
     ]
    }
   ],
   "source": [
    "newlist = list(filter(lambda x: x<5, mylist))\n",
    "newlist.append(40)\n",
    "\n",
    "print(newlist)"
   ]
  },
  {
   "cell_type": "markdown",
   "metadata": {},
   "source": [
    "## Question 6"
   ]
  },
  {
   "cell_type": "markdown",
   "metadata": {},
   "source": [
    "\n",
    "a) Create a **Animal** class and initialize init constructor with parameters *name* and *age*. Define a method called **moving()** that prints \"Animals move\". Create another another **Living** class with method called **alive()** that prints \"I am alive\".<br>Marks: 2\n",
    "<br><br> b) Create a **Mammal** child class than inherits from a **Animal** class and a **Living** class with a method called **warm()** which prints \"I am warm blooded\".<br>Marks: 2\n",
    "<br><br> c) Create an **instance/object of Mammal class** and call the methods in both parent classes. Marks: 1\n",
    "<br> Total marks: 5"
   ]
  },
  {
   "cell_type": "code",
   "execution_count": 62,
   "metadata": {},
   "outputs": [],
   "source": [
    "class Animal:\n",
    "    \n",
    "    def __init__(self, name, age):\n",
    "        self.name = name\n",
    "        self.age = age\n",
    "        \n",
    "    def moving(self):\n",
    "        print('Animals move')\n",
    "        \n",
    "        \n",
    "class Living:\n",
    "    \n",
    "    def alive(self):\n",
    "        print('I am alive')\n",
    "        \n",
    "        \n",
    "class Mammal(Animal, Living):\n",
    "    \n",
    "    def warm(self):\n",
    "        print('I am warm blooded.')\n",
    "\n"
   ]
  },
  {
   "cell_type": "code",
   "execution_count": 64,
   "metadata": {},
   "outputs": [
    {
     "name": "stdout",
     "output_type": "stream",
     "text": [
      "Cat , aged 4\n",
      "Animals move\n",
      "I am alive\n",
      "I am warm blooded.\n"
     ]
    }
   ],
   "source": [
    "cat = Mammal(\"Cat\", 4)\n",
    "print(cat.name,\", aged\", cat.age)\n",
    "cat.moving()\n",
    "cat.alive()\n",
    "cat.warm()"
   ]
  },
  {
   "cell_type": "markdown",
   "metadata": {},
   "source": [
    "## Question 7"
   ]
  },
  {
   "cell_type": "markdown",
   "metadata": {},
   "source": [
    "Override the parent method of moving() in Mammal with print(\"I run\") instead. Create a new Mammal object and call the new moving() method. <br>\n",
    "Marks: 3"
   ]
  },
  {
   "cell_type": "code",
   "execution_count": 65,
   "metadata": {},
   "outputs": [],
   "source": [
    "class Mammal(Animal, Living):\n",
    "    \n",
    "    def warm(self):\n",
    "        print('I am warm blooded.')\n",
    "        \n",
    "    def moving(self):\n",
    "        print(\"I run\")\n"
   ]
  },
  {
   "cell_type": "code",
   "execution_count": 66,
   "metadata": {},
   "outputs": [
    {
     "name": "stdout",
     "output_type": "stream",
     "text": [
      "Dog , aged 8\n",
      "I run\n",
      "I am alive\n",
      "I am warm blooded.\n"
     ]
    }
   ],
   "source": [
    "dog = Mammal(\"Dog\", 8)\n",
    "print(dog.name,\", aged\", dog.age)\n",
    "dog.moving()\n",
    "dog.alive()\n",
    "dog.warm()"
   ]
  }
 ],
 "metadata": {
  "kernelspec": {
   "display_name": "Python 3",
   "language": "python",
   "name": "python3"
  },
  "language_info": {
   "codemirror_mode": {
    "name": "ipython",
    "version": 3
   },
   "file_extension": ".py",
   "mimetype": "text/x-python",
   "name": "python",
   "nbconvert_exporter": "python",
   "pygments_lexer": "ipython3",
   "version": "3.7.6"
  }
 },
 "nbformat": 4,
 "nbformat_minor": 2
}
