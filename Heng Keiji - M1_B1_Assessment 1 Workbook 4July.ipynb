{
 "cells": [
  {
   "cell_type": "markdown",
   "metadata": {},
   "source": [
    "# Exercise"
   ]
  },
  {
   "cell_type": "markdown",
   "metadata": {},
   "source": [
    "## Question 1"
   ]
  },
  {
   "cell_type": "markdown",
   "metadata": {},
   "source": [
    "Write a program to **calculate the number of\n",
    "minutes** in a week. Make variables for **DaysPerWeek,\n",
    "HoursPerDay, and MinutesPerHour** (or make up your own names), and then multiply\n",
    "them together. Display the number of minutes."
   ]
  },
  {
   "cell_type": "code",
   "execution_count": 8,
   "metadata": {},
   "outputs": [
    {
     "name": "stdout",
     "output_type": "stream",
     "text": [
      "Total number of minutes in a week: 10080\n"
     ]
    }
   ],
   "source": [
    "Daysperweek = 7\n",
    "Hoursperday = 24\n",
    "Minutesperhour = 60\n",
    "Total_minutes_in_a_week = Daysperweek*Hoursperday*Minutesperhour\n",
    "print(\"Total number of minutes in a week:\", Total_minutes_in_a_week)\n"
   ]
  },
  {
   "cell_type": "markdown",
   "metadata": {},
   "source": [
    "## Question 2"
   ]
  },
  {
   "cell_type": "markdown",
   "metadata": {},
   "source": [
    "Which of the following is true? <br>\n",
    "(a) Lists and tuples are denoted by the use of square brackets. <br>\n",
    "(b) Lists are denoted by use of square brackets and tuples are denoted by the use of parentheses. <br>\n",
    "(c) Lists are denoted by use of parentheses and tuples are denoted by the use of square brackets."
   ]
  },
  {
   "cell_type": "code",
   "execution_count": 15,
   "metadata": {},
   "outputs": [],
   "source": [
    "# write your answer here: (b)"
   ]
  },
  {
   "cell_type": "markdown",
   "metadata": {},
   "source": [
    "## Question 3"
   ]
  },
  {
   "cell_type": "markdown",
   "metadata": {},
   "source": [
    "Write code to calculate and display a whereby b=3 and c=4.\n",
    "\n",
    "a = $\\sqrt{b^2 + c^2}$"
   ]
  },
  {
   "cell_type": "code",
   "execution_count": 26,
   "metadata": {},
   "outputs": [
    {
     "name": "stdout",
     "output_type": "stream",
     "text": [
      "5.0\n"
     ]
    }
   ],
   "source": [
    "import math\n",
    "\n",
    "b=3\n",
    "c=4\n",
    "\n",
    "a = math.sqrt((b**2)+(c**2))\n",
    "print(a)"
   ]
  },
  {
   "cell_type": "markdown",
   "metadata": {},
   "source": [
    "**Note: You can use ** for power.**"
   ]
  },
  {
   "cell_type": "markdown",
   "metadata": {},
   "source": [
    "## Question 4"
   ]
  },
  {
   "cell_type": "markdown",
   "metadata": {},
   "source": [
    "**Write a Python program that allows the user to enter any integer value, and displays the value of 2 raised to that power. Your program should function as shown below.**\n",
    "\n",
    "What power of two? 10\n",
    "\n",
    "Output: Two to the power of 10 is 1024"
   ]
  },
  {
   "cell_type": "code",
   "execution_count": 14,
   "metadata": {},
   "outputs": [
    {
     "name": "stdout",
     "output_type": "stream",
     "text": [
      "Enter an integer8\n",
      "Two to the power of 8 is 256\n"
     ]
    }
   ],
   "source": [
    "x = int(input(\"Enter an integer for power of 2\"))\n",
    "ans = 2**x\n",
    "\n",
    "print(\"Two to the power of\", x, \"is\", ans)"
   ]
  },
  {
   "cell_type": "markdown",
   "metadata": {},
   "source": [
    "## Question 5"
   ]
  },
  {
   "cell_type": "markdown",
   "metadata": {},
   "source": [
    "**Given that radius of sphere is 4. Find its surface area (Formula : A=4 x π x $r^{2}$)**\n",
    "<br> Value of π assume it is 3.142\n",
    "<br> Display: The surface area is (your answer)"
   ]
  },
  {
   "cell_type": "code",
   "execution_count": 27,
   "metadata": {},
   "outputs": [
    {
     "name": "stdout",
     "output_type": "stream",
     "text": [
      "The surface area is  201.088\n"
     ]
    }
   ],
   "source": [
    "pi = 3.142\n",
    "r = 4\n",
    "\n",
    "# Calculate surface area using given formula and then print it as given in the output\n",
    "area = 4*pi*r**2\n",
    "print(\"The surface area is \", area)"
   ]
  },
  {
   "cell_type": "markdown",
   "metadata": {},
   "source": [
    "## Question 6"
   ]
  },
  {
   "cell_type": "markdown",
   "metadata": {},
   "source": [
    "**Given two numbers, print** \n",
    "\n",
    "     1. \"Result: n1 = n2\" if they are equal\n",
    "     2. \"Result: n1 > n2\" if the first one is greater than second one\n",
    "     3. \"Result: n1 < n2\" if the first one is less than second one   \n",
    "    \n",
    "**\n",
    "Let n1=10 and n2=20\n",
    "**"
   ]
  },
  {
   "cell_type": "code",
   "execution_count": 4,
   "metadata": {},
   "outputs": [
    {
     "name": "stdout",
     "output_type": "stream",
     "text": [
      "Result: n1 < n2\n"
     ]
    }
   ],
   "source": [
    "# Write code that outputs the correct result for:\n",
    "n1=10\n",
    "n2=20\n",
    "\n",
    "if n1 == n2:\n",
    "    print(\"Result: n1 = n2\")\n",
    "    \n",
    "elif n1 > n2:\n",
    "    print(\"Result: n1 > n2\")\n",
    "    \n",
    "else:\n",
    "    print(\"Result: n1 < n2\")"
   ]
  },
  {
   "cell_type": "markdown",
   "metadata": {},
   "source": [
    "## Question 7"
   ]
  },
  {
   "cell_type": "markdown",
   "metadata": {},
   "source": [
    "**Given the stocks of companies in the form a dictionary, display the sum of the their stocks. <br>\n",
    "hint: stocks['IBM'] = 213.23**"
   ]
  },
  {
   "cell_type": "code",
   "execution_count": 8,
   "metadata": {},
   "outputs": [
    {
     "name": "stdout",
     "output_type": "stream",
     "text": [
      "Sum of the stocks is 277.88\n"
     ]
    }
   ],
   "source": [
    "stocks = {\n",
    "        'IBM': 213.23,\n",
    "        'MSFT':43.11,\n",
    "        'AMZN':21.54\n",
    "}\n",
    "\n",
    "# stocks['IBM'] + ....\n",
    "\n",
    "sum_of_stocks = stocks[\"IBM\"]+stocks['MSFT']+stocks['AMZN']\n",
    "print (\"Sum of the stocks is\", sum_of_stocks)"
   ]
  },
  {
   "cell_type": "code",
   "execution_count": 9,
   "metadata": {},
   "outputs": [
    {
     "name": "stdout",
     "output_type": "stream",
     "text": [
      "Sum of the stocks is 277.88\n"
     ]
    }
   ],
   "source": [
    "def returnSum(stocks):\n",
    "    sum=0\n",
    "    for i in stocks:\n",
    "        sum=sum+stocks[i]\n",
    "    return sum\n",
    "\n",
    "print(\"Sum of the stocks is\", returnSum(stocks))"
   ]
  },
  {
   "cell_type": "markdown",
   "metadata": {},
   "source": [
    "## Question 8"
   ]
  },
  {
   "cell_type": "raw",
   "metadata": {},
   "source": [
    "For fruit = 'orange', Complete the code to obtain 'oag'\n",
    "\n",
    "        for i in range(___, _____, ___):\n",
    "            print(fruit[i], end='')\n",
    "            "
   ]
  },
  {
   "cell_type": "code",
   "execution_count": 12,
   "metadata": {},
   "outputs": [
    {
     "name": "stdout",
     "output_type": "stream",
     "text": [
      "oag"
     ]
    }
   ],
   "source": [
    "fruit = \"orange\"\n",
    "\n",
    "for i in range(0,6,2):\n",
    "    print(fruit[i], end='')"
   ]
  },
  {
   "cell_type": "markdown",
   "metadata": {},
   "source": [
    "## Question 9"
   ]
  },
  {
   "cell_type": "markdown",
   "metadata": {},
   "source": [
    "Fill in the blanks of below loop that creates a list with the following **powers of 2**: $$2^1, 2^2, 2^3, 2^4$$ <br>\n",
    "\n",
    "Expected output: display of [2,4,8,16]"
   ]
  },
  {
   "cell_type": "code",
   "execution_count": 13,
   "metadata": {},
   "outputs": [
    {
     "name": "stdout",
     "output_type": "stream",
     "text": [
      "[2, 4, 8, 16]\n"
     ]
    }
   ],
   "source": [
    "lst = []\n",
    "\n",
    "for i in range(1,5):\n",
    "    a = 2\n",
    "    a = a**i\n",
    "    lst.append(a)\n",
    "\n",
    "print(lst)"
   ]
  },
  {
   "cell_type": "markdown",
   "metadata": {},
   "source": [
    "## Question 10"
   ]
  },
  {
   "cell_type": "raw",
   "metadata": {},
   "source": [
    "Write a program using loop to print multiplication table for 6, output:\n",
    "1 times 6 = 6\n",
    "2 times 6 = 12\n",
    "3 times 6 = 18\n",
    "4 times 6 = 24\n",
    "5 times 6 = 30"
   ]
  },
  {
   "cell_type": "code",
   "execution_count": 20,
   "metadata": {},
   "outputs": [
    {
     "name": "stdout",
     "output_type": "stream",
     "text": [
      "Multiplication Table of 6\n",
      "1 times 6 = 6\n",
      "2 times 6 = 12\n",
      "3 times 6 = 18\n",
      "4 times 6 = 24\n",
      "5 times 6 = 30\n"
     ]
    }
   ],
   "source": [
    "num = 6\n",
    "\n",
    "for i in range(1, 6):\n",
    "   print(i,\"times\",num,\"=\",num * i)\n",
    "\n"
   ]
  },
  {
   "cell_type": "markdown",
   "metadata": {},
   "source": [
    "## Question 11"
   ]
  },
  {
   "cell_type": "markdown",
   "metadata": {},
   "source": [
    "**A store is having a sale. It’s giving 10 percent off on purchases of 10 dollars or lower, and 20 percent off purchases of greater than 10 dollars. Write a program that asks user for the purchase price and displays the discount (10 or 20) and the final price.**"
   ]
  },
  {
   "cell_type": "code",
   "execution_count": 25,
   "metadata": {},
   "outputs": [
    {
     "name": "stdout",
     "output_type": "stream",
     "text": [
      "Enter total purchase price before discount: $22\n",
      "Your final price after discount is $ 17.60\n"
     ]
    }
   ],
   "source": [
    "price = float(input(\"Enter total purchase price before discount: $\"))\n",
    "\n",
    "if price < 10.00:\n",
    "    price_after_disc = 0.9*price\n",
    "    print(\"Your final price after discount is $\", \"{:.2f}\".format(price_after_disc))\n",
    "    \n",
    "else:\n",
    "    price_after_disc = 0.8*price\n",
    "    print(\"Your final price after discount is $\", \"{:.2f}\".format(price_after_disc))"
   ]
  }
 ],
 "metadata": {
  "kernelspec": {
   "display_name": "Python 3",
   "language": "python",
   "name": "python3"
  },
  "language_info": {
   "codemirror_mode": {
    "name": "ipython",
    "version": 3
   },
   "file_extension": ".py",
   "mimetype": "text/x-python",
   "name": "python",
   "nbconvert_exporter": "python",
   "pygments_lexer": "ipython3",
   "version": "3.7.6"
  }
 },
 "nbformat": 4,
 "nbformat_minor": 2
}
