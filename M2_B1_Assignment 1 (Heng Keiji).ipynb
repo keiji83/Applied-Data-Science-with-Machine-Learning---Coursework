{
 "cells": [
  {
   "cell_type": "code",
   "execution_count": 2,
   "metadata": {},
   "outputs": [],
   "source": [
    "import numpy as np"
   ]
  },
  {
   "cell_type": "markdown",
   "metadata": {
    "colab_type": "text",
    "collapsed": true,
    "id": "_vS4yqflCYAG"
   },
   "source": [
    "\n",
    "### 1. Create an array of integers from 2 to 20 with a step of 2 (Marks: 1)\n"
   ]
  },
  {
   "cell_type": "code",
   "execution_count": 3,
   "metadata": {
    "colab": {},
    "colab_type": "code",
    "id": "km5BvVGQCYAH",
    "outputId": "7209c741-f2a9-412c-c4f6-bf2164fbef77"
   },
   "outputs": [
    {
     "data": {
      "text/plain": [
       "array([ 2,  4,  6,  8, 10, 12, 14, 16, 18, 20])"
      ]
     },
     "execution_count": 3,
     "metadata": {},
     "output_type": "execute_result"
    }
   ],
   "source": [
    "arr = np.arange(2,21,2)\n",
    "arr"
   ]
  },
  {
   "cell_type": "markdown",
   "metadata": {
    "colab_type": "text",
    "collapsed": true,
    "id": "s0ZDAJ7oCYAL"
   },
   "source": [
    "\n",
    "### 2. Find the minimum values for each row of below array. Output should be array of 4 values. (Marks: 1)\n"
   ]
  },
  {
   "cell_type": "code",
   "execution_count": 5,
   "metadata": {
    "colab": {},
    "colab_type": "code",
    "id": "Bz-dZkmaCYAN",
    "outputId": "45173610-a32a-44b2-dfa1-fb0bce4f02e5"
   },
   "outputs": [
    {
     "data": {
      "text/plain": [
       "array([102, 106, 117, 140])"
      ]
     },
     "execution_count": 5,
     "metadata": {},
     "output_type": "execute_result"
    }
   ],
   "source": [
    "arr = np.array([[110, 102, 183],\n",
    "                     [140, 175, 106],\n",
    "                     [170, 195, 117],\n",
    "                     [192, 140, 195]])\n",
    "\n",
    "minval = np.min(arr,axis=1)\n",
    "minval"
   ]
  },
  {
   "cell_type": "markdown",
   "metadata": {
    "colab_type": "text",
    "collapsed": true,
    "id": "VTnaIsaFCYAQ"
   },
   "source": [
    "### 3. Replace all numbers in array, 'arr', that are less than 10 with -2.    (Marks: 2)\n"
   ]
  },
  {
   "cell_type": "code",
   "execution_count": 7,
   "metadata": {
    "colab": {},
    "colab_type": "code",
    "id": "ZEZAGS7fCYAR",
    "outputId": "4be280d4-6e5d-4ee7-fe95-f76d44b21066"
   },
   "outputs": [
    {
     "name": "stdout",
     "output_type": "stream",
     "text": [
      "[-2 -2 -2 -2 -2 10 12 13]\n"
     ]
    }
   ],
   "source": [
    "arr = np.array([0,5,6,7,8,10,12,13])\n",
    "arr[arr<10] = -2\n",
    "print(arr)"
   ]
  },
  {
   "cell_type": "markdown",
   "metadata": {
    "colab_type": "text",
    "collapsed": true,
    "id": "O5AygB89CYAT"
   },
   "source": [
    "### 4. Replace all even numbers in 'arr' with 2, by creating a new array called 'arr2' and retaining the original array 'arr' (Marks: 2)\n"
   ]
  },
  {
   "cell_type": "code",
   "execution_count": 13,
   "metadata": {
    "colab": {},
    "colab_type": "code",
    "id": "_hr7lJt8CYAV",
    "outputId": "96c7a57d-ea29-46ed-ca4c-23708e12d48b",
    "scrolled": true
   },
   "outputs": [
    {
     "name": "stdout",
     "output_type": "stream",
     "text": [
      "[ 2 31  2 43  2 45]\n",
      "[ 0 31 42 43 34 45]\n"
     ]
    }
   ],
   "source": [
    "arr = np.array([0, 31, 42, 43, 34, 45])\n",
    "\n",
    "arr2[arr%2==0] = 2\n",
    "print(arr2)\n",
    "\n",
    "arr = arr.copy()\n",
    "print(arr)\n"
   ]
  },
  {
   "cell_type": "markdown",
   "metadata": {
    "colab_type": "text",
    "collapsed": true,
    "id": "NRcFH3LCCYAZ"
   },
   "source": [
    "### 5. Create 2 arrays as shown below and stack them vertically, A on top of B (Mark: 2)\n"
   ]
  },
  {
   "cell_type": "markdown",
   "metadata": {},
   "source": [
    "$$  A = \\left( \\begin{array}{cc} 1 & 2 & 3 \\\\ 3 & 1 & 2 \\end{array}\\right)  B = \\left( \\begin{array}{cc} 1 & 4 & 1 \\\\ 2 & 5 & 2 \\\\ 4 & 2 & 8 \\end{array}\\right) $$"
   ]
  },
  {
   "cell_type": "code",
   "execution_count": 20,
   "metadata": {
    "colab": {},
    "colab_type": "code",
    "id": "4us2QbrxCYAa"
   },
   "outputs": [
    {
     "name": "stdout",
     "output_type": "stream",
     "text": [
      "Vertical stacking A on top of B = \n",
      " [[1 2 3]\n",
      " [3 1 2]\n",
      " [1 4 1]\n",
      " [2 5 2]\n",
      " [4 2 8]]\n"
     ]
    }
   ],
   "source": [
    "A = np.array([[1,2,3],\n",
    "             [3,1,2]])\n",
    "\n",
    "B = np.array([[1,4,1],\n",
    "             [2,5,2],\n",
    "              [4,2,8]])\n",
    "\n",
    "print(\"Vertical stacking A on top of B = \\n\", np.vstack((A,B)))"
   ]
  },
  {
   "cell_type": "markdown",
   "metadata": {
    "colab_type": "text",
    "collapsed": true,
    "id": "wcJfQ0caCYAs"
   },
   "source": [
    "### 6. Get the index positions where elements of below two arrays match (Mark: 1)\n"
   ]
  },
  {
   "cell_type": "code",
   "execution_count": 23,
   "metadata": {
    "colab": {},
    "colab_type": "code",
    "id": "EnYHpKDgCYAt",
    "outputId": "0435ebc2-fd30-42b7-8b03-ffad256d454b"
   },
   "outputs": [
    {
     "name": "stdout",
     "output_type": "stream",
     "text": [
      "Index positions of elements that match =  (array([1, 3, 5, 7], dtype=int64),)\n"
     ]
    }
   ],
   "source": [
    "array1 = np.array([1,2,3,2,3,4,3,4,5,6])\n",
    "array2 = np.array([7,2,10,2,7,4,9,4,9,8])\n",
    "\n",
    "print(\"Index positions of elements that match = \", np.where(array1 == array2))"
   ]
  },
  {
   "cell_type": "markdown",
   "metadata": {},
   "source": [
    "### 7. Find the mean, median and standard deviation down each column for the given table. There should be 9 values as outputs for each. (Mark: 2)\n",
    "$$ Data = \\left( \\begin{array}{cc} 1, & 4, & 5, & 4, & 6, & 4 & 7 & 1 & 2\\\\ 1, & 1, & 0, & 0, & 0, & 0 & 0 & 0 & 1 \\\\ 1, & 4, & 5, & 4, & 6, & 4 & 7 & 1 & 2 \\\\ 11, & 4, & 5, & 8, & 9, & 10 & 2 & 1 & 3\\end{array}\\right) $$"
   ]
  },
  {
   "cell_type": "code",
   "execution_count": 24,
   "metadata": {
    "scrolled": true
   },
   "outputs": [
    {
     "data": {
      "text/plain": [
       "(array([3.5 , 3.25, 3.75, 4.  , 5.25, 4.5 , 4.  , 0.75, 2.  ]),\n",
       " array([1. , 4. , 5. , 4. , 6. , 4. , 4.5, 1. , 2. ]),\n",
       " array([4.33012702, 1.29903811, 2.16506351, 2.82842712, 3.26917421,\n",
       "        3.57071421, 3.082207  , 0.4330127 , 0.70710678]))"
      ]
     },
     "execution_count": 24,
     "metadata": {},
     "output_type": "execute_result"
    }
   ],
   "source": [
    "data = np.array([[1,4,5,4,6,4,7,1,2],[1,1,0,0,0,0,0,0,1],[1,4,5,4,6,4,7,1,2],[11,4,5,8,9,10,2,1,3]])\n",
    "\n",
    "def stats(data):\n",
    "    return np.mean(data, axis=0), np.median(data, axis=0), np.std(data, axis=0)\n",
    "\n",
    "stats(data)"
   ]
  },
  {
   "cell_type": "markdown",
   "metadata": {
    "colab_type": "text",
    "collapsed": true,
    "id": "wcJfQ0caCYAs"
   },
   "source": [
    "### 8. Use masking to get the elements from 'data' smaller than 10 in entire column index 1. (Marks: 1)\n"
   ]
  },
  {
   "cell_type": "code",
   "execution_count": 25,
   "metadata": {
    "colab": {},
    "colab_type": "code",
    "id": "5hczajQcCYA9"
   },
   "outputs": [
    {
     "name": "stdout",
     "output_type": "stream",
     "text": [
      "[[ 0  1  2  3]\n",
      " [ 4  5  6  7]\n",
      " [ 8  9 10 11]\n",
      " [12 13 14 15]]\n"
     ]
    }
   ],
   "source": [
    "data = np.arange(16).reshape(4,4)\n",
    "print(data)"
   ]
  },
  {
   "cell_type": "code",
   "execution_count": 28,
   "metadata": {},
   "outputs": [
    {
     "data": {
      "text/plain": [
       "array([1, 5, 9])"
      ]
     },
     "execution_count": 28,
     "metadata": {},
     "output_type": "execute_result"
    }
   ],
   "source": [
    "mask = data[:, 1] <10\n",
    "\n",
    "data[mask,1]"
   ]
  },
  {
   "cell_type": "markdown",
   "metadata": {
    "colab_type": "text",
    "collapsed": true,
    "id": "NRcFH3LCCYAZ"
   },
   "source": [
    "### 9. Create Array A (the one on top) as shown. Use fancy indexing to change it to array A below (Mark: 2)\n"
   ]
  },
  {
   "cell_type": "markdown",
   "metadata": {},
   "source": [
    "$$  A = \\left( \\begin{array}{cc} 1 & 2 & 3 \\\\ 3 & 1 & 2 \\end{array}\\right) $$ \n",
    "$$ A = \\left( \\begin{array}{cc} 1 & 4 & 3 \\\\ 6 & 1 & 9 \\end{array}\\right) $$"
   ]
  },
  {
   "cell_type": "code",
   "execution_count": 38,
   "metadata": {},
   "outputs": [
    {
     "data": {
      "text/plain": [
       "array([[1, 4, 3],\n",
       "       [6, 1, 9]])"
      ]
     },
     "execution_count": 38,
     "metadata": {},
     "output_type": "execute_result"
    }
   ],
   "source": [
    "A = np.array([[1,2,3],[3,1,2]])\n",
    "A\n",
    "\n",
    "A[0,[1]] = 4\n",
    "A[1,[0,2]] = 6,9\n",
    "A"
   ]
  }
 ],
 "metadata": {
  "colab": {
   "name": "NPV - Take home (Day 1) [V 1.0 - 090120].ipynb",
   "provenance": []
  },
  "kernelspec": {
   "display_name": "Python 3",
   "language": "python",
   "name": "python3"
  },
  "language_info": {
   "codemirror_mode": {
    "name": "ipython",
    "version": 3
   },
   "file_extension": ".py",
   "mimetype": "text/x-python",
   "name": "python",
   "nbconvert_exporter": "python",
   "pygments_lexer": "ipython3",
   "version": "3.8.5"
  },
  "toc": {
   "base_numbering": 1,
   "nav_menu": {},
   "number_sections": false,
   "sideBar": true,
   "skip_h1_title": false,
   "title_cell": "Table of Contents",
   "title_sidebar": "Contents",
   "toc_cell": false,
   "toc_position": {},
   "toc_section_display": true,
   "toc_window_display": true
  },
  "varInspector": {
   "cols": {
    "lenName": 16,
    "lenType": 16,
    "lenVar": 40
   },
   "kernels_config": {
    "python": {
     "delete_cmd_postfix": "",
     "delete_cmd_prefix": "del ",
     "library": "var_list.py",
     "varRefreshCmd": "print(var_dic_list())"
    },
    "r": {
     "delete_cmd_postfix": ") ",
     "delete_cmd_prefix": "rm(",
     "library": "var_list.r",
     "varRefreshCmd": "cat(var_dic_list()) "
    }
   },
   "types_to_exclude": [
    "module",
    "function",
    "builtin_function_or_method",
    "instance",
    "_Feature"
   ],
   "window_display": false
  }
 },
 "nbformat": 4,
 "nbformat_minor": 1
}
