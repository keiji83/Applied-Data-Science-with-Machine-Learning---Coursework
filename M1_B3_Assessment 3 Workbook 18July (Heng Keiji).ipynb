{
 "cells": [
  {
   "cell_type": "markdown",
   "metadata": {},
   "source": [
    "## Question 1"
   ]
  },
  {
   "cell_type": "markdown",
   "metadata": {},
   "source": [
    "**Write a decorator to perform following function: <br>\n",
    "print \"This is a decorator\" before a function and \"This is the end of the decorator\" after the function.<br>\n",
    "Create a function, func(x) which prints x and use your decorator around it.**\n",
    "<br>\n",
    "Marks: 2"
   ]
  },
  {
   "cell_type": "code",
   "execution_count": 1,
   "metadata": {},
   "outputs": [
    {
     "name": "stdout",
     "output_type": "stream",
     "text": [
      "This is a decorator\n",
      "x\n",
      "This is the end of the decorator\n"
     ]
    }
   ],
   "source": [
    "def decorator(function):\n",
    "    def wrapper():\n",
    "        print(\"This is a decorator\")\n",
    "        \n",
    "        function()\n",
    "        \n",
    "        print(\"This is the end of the decorator\")\n",
    "        \n",
    "    return wrapper\n",
    "\n",
    "@decorator\n",
    "def func():\n",
    "    print(\"x\")\n",
    "    \n",
    "\n",
    "func()"
   ]
  },
  {
   "cell_type": "markdown",
   "metadata": {},
   "source": [
    "## Question 2"
   ]
  },
  {
   "cell_type": "markdown",
   "metadata": {},
   "source": [
    "**Now change your decorator to take in any amount of arbitrary parameters. <br>\n",
    "Create a function with 2 arguments, func(a,b) which prints(a,b) and apply the modified decorator to it.**\n",
    "<br> Marks: 1\n",
    "\n"
   ]
  },
  {
   "cell_type": "code",
   "execution_count": 10,
   "metadata": {},
   "outputs": [
    {
     "name": "stdout",
     "output_type": "stream",
     "text": [
      "This is a decorator\n",
      "a , b\n",
      "This is the end of the decorator\n"
     ]
    }
   ],
   "source": [
    "def decorator(function):\n",
    "    \n",
    "    def wrapper(arg1, arg2):\n",
    "        print(\"This is a decorator\")\n",
    "        function(arg1, arg2)\n",
    "        print(\"This is the end of the decorator\")\n",
    "    return wrapper\n",
    "\n",
    "@decorator\n",
    "def func(a, b):\n",
    "    print(a, ',',b)\n",
    "\n",
    "func(\"a\", \"b\")"
   ]
  },
  {
   "cell_type": "markdown",
   "metadata": {},
   "source": [
    "## Question 3"
   ]
  },
  {
   "cell_type": "markdown",
   "metadata": {},
   "source": [
    "**Write an exception handling program to handle the following situations: <br>\n",
    "Try code will take in user input, x and evaluate x/100. <br>\n",
    "Exception block will print \"Wrong input\" if user input is not integer <br> hint: ValueError**\n",
    "\n",
    "Marks: 2"
   ]
  },
  {
   "cell_type": "code",
   "execution_count": 9,
   "metadata": {
    "scrolled": true
   },
   "outputs": [
    {
     "name": "stdout",
     "output_type": "stream",
     "text": [
      "Input an integer to be calculated 21.9\n",
      "The input is not a valid integer\n"
     ]
    }
   ],
   "source": [
    "try:\n",
    "    x = int(input(\"Input an integer to be calculated \"))\n",
    "    ans = x/100\n",
    "    print(x, \"divided by 100 =\" ,ans)\n",
    "except ValueError:\n",
    "    print(\"The input is not a valid integer\")\n",
    "    "
   ]
  },
  {
   "cell_type": "markdown",
   "metadata": {},
   "source": [
    "## Question 4"
   ]
  },
  {
   "cell_type": "markdown",
   "metadata": {},
   "source": [
    "**Use regex to verify whether a string is valid. \n",
    "The criteria to be valid: \n",
    "<br> - Starts with letter \"a\" \n",
    "<br> - Next few characters must be digits only\n",
    "<br> - 4 characters long in total**\n",
    "<br> Marks: 2"
   ]
  },
  {
   "cell_type": "code",
   "execution_count": 20,
   "metadata": {},
   "outputs": [],
   "source": [
    "import re\n",
    "\n",
    "def verify(stringx):\n",
    "    if re.match(r\"^a[0-9]{3}$\",stringx):\n",
    "        print(\"valid\")\n",
    "        \n",
    "    else:\n",
    "        print(\"invalid\")"
   ]
  },
  {
   "cell_type": "code",
   "execution_count": 22,
   "metadata": {},
   "outputs": [
    {
     "name": "stdout",
     "output_type": "stream",
     "text": [
      "valid\n"
     ]
    }
   ],
   "source": [
    "verify(\"a939\")"
   ]
  },
  {
   "cell_type": "markdown",
   "metadata": {},
   "source": [
    "## Question 5"
   ]
  },
  {
   "cell_type": "markdown",
   "metadata": {},
   "source": [
    "**6. Print the matches to the string: <br>\n",
    "names = [\"Stacy\", \"Peter\", \"Paul\"]**\n",
    "<br> - Names starting with P \n",
    "<br> - Names ending with y\n",
    "<br> Marks: 2"
   ]
  },
  {
   "cell_type": "code",
   "execution_count": 25,
   "metadata": {},
   "outputs": [
    {
     "name": "stdout",
     "output_type": "stream",
     "text": [
      "Peter\n",
      "Paul\n",
      "Stacy\n"
     ]
    }
   ],
   "source": [
    "names = [\"Stacy\", \"Peter\", \"Paul\"]\n",
    "\n",
    "# names starting with P\n",
    "for x in names:\n",
    "    if re.match(\"^P\",x):\n",
    "        print(x)\n",
    "    \n",
    "\n",
    "# names ending with y\n",
    "for i in names:\n",
    "    if re.match(\".*y$\", i):\n",
    "        print(i)"
   ]
  }
 ],
 "metadata": {
  "kernelspec": {
   "display_name": "Python 3",
   "language": "python",
   "name": "python3"
  },
  "language_info": {
   "codemirror_mode": {
    "name": "ipython",
    "version": 3
   },
   "file_extension": ".py",
   "mimetype": "text/x-python",
   "name": "python",
   "nbconvert_exporter": "python",
   "pygments_lexer": "ipython3",
   "version": "3.7.6"
  }
 },
 "nbformat": 4,
 "nbformat_minor": 2
}
